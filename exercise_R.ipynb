{
 "cells": [
  {
   "cell_type": "markdown",
   "metadata": {},
   "source": [
    "# Dado el Dataframe siguiente"
   ]
  },
  {
   "cell_type": "code",
   "execution_count": 3,
   "metadata": {},
   "outputs": [
    {
     "ename": "NameError",
     "evalue": "name 'nombres' is not defined",
     "output_type": "error",
     "traceback": [
      "\u001b[1;31m---------------------------------------------------------------------------\u001b[0m",
      "\u001b[1;31mNameError\u001b[0m                                 Traceback (most recent call last)",
      "Cell \u001b[1;32mIn[3], line 1\u001b[0m\n\u001b[1;32m----> 1\u001b[0m \u001b[43mnombres\u001b[49m \u001b[38;5;241m<\u001b[39m\u001b[38;5;241m-\u001b[39m c(\u001b[38;5;124m\"\u001b[39m\u001b[38;5;124mAna\u001b[39m\u001b[38;5;124m\"\u001b[39m, \u001b[38;5;124m\"\u001b[39m\u001b[38;5;124mLuis\u001b[39m\u001b[38;5;124m\"\u001b[39m, \u001b[38;5;124m\"\u001b[39m\u001b[38;5;124mMarta\u001b[39m\u001b[38;5;124m\"\u001b[39m, \u001b[38;5;124m\"\u001b[39m\u001b[38;5;124mJuan\u001b[39m\u001b[38;5;124m\"\u001b[39m, \u001b[38;5;124m\"\u001b[39m\u001b[38;5;124mCarlos\u001b[39m\u001b[38;5;124m\"\u001b[39m, \u001b[38;5;124m\"\u001b[39m\u001b[38;5;124mPaco\u001b[39m\u001b[38;5;124m\"\u001b[39m, \u001b[38;5;124m\"\u001b[39m\u001b[38;5;124mAna\u001b[39m\u001b[38;5;124m\"\u001b[39m, \u001b[38;5;124m\"\u001b[39m\u001b[38;5;124mMacareno\u001b[39m\u001b[38;5;124m\"\u001b[39m)\n\u001b[0;32m      2\u001b[0m edades \u001b[38;5;241m<\u001b[39m\u001b[38;5;241m-\u001b[39m c(\u001b[38;5;241m23\u001b[39m, \u001b[38;5;241m34\u001b[39m, \u001b[38;5;241m28\u001b[39m, \u001b[38;5;241m45\u001b[39m, \u001b[38;5;241m56\u001b[39m, \u001b[38;5;241m18\u001b[39m, \u001b[38;5;241m41\u001b[39m, \u001b[38;5;241m29\u001b[39m)\n\u001b[0;32m      3\u001b[0m ocupaciones \u001b[38;5;241m<\u001b[39m\u001b[38;5;241m-\u001b[39m c(\u001b[38;5;124m\"\u001b[39m\u001b[38;5;124mIngeniera\u001b[39m\u001b[38;5;124m\"\u001b[39m, \u001b[38;5;124m\"\u001b[39m\u001b[38;5;124mDoctor\u001b[39m\u001b[38;5;124m\"\u001b[39m, \u001b[38;5;124m\"\u001b[39m\u001b[38;5;124mAbogada\u001b[39m\u001b[38;5;124m\"\u001b[39m, \u001b[38;5;124m\"\u001b[39m\u001b[38;5;124mProfesor\u001b[39m\u001b[38;5;124m\"\u001b[39m, \u001b[38;5;124m\"\u001b[39m\u001b[38;5;124mIngeniero\u001b[39m\u001b[38;5;124m\"\u001b[39m,\n\u001b[0;32m      4\u001b[0m                  \u001b[38;5;124m\"\u001b[39m\u001b[38;5;124mAbogado\u001b[39m\u001b[38;5;124m\"\u001b[39m, \u001b[38;5;124m\"\u001b[39m\u001b[38;5;124mAbogada\u001b[39m\u001b[38;5;124m\"\u001b[39m, \u001b[38;5;124m\"\u001b[39m\u001b[38;5;124mProfesor\u001b[39m\u001b[38;5;124m\"\u001b[39m)\n",
      "\u001b[1;31mNameError\u001b[0m: name 'nombres' is not defined"
     ]
    }
   ],
   "source": [
    "nombres <- c(\"Ana\", \"Luis\", \"Marta\", \"Juan\", \"Carlos\", \"Paco\", \"Ana\", \"Macareno\")\n",
    "edades <- c(23, 34, 28, 45, 56, 18, 41, 29)\n",
    "ocupaciones <- c(\"Ingeniera\", \"Doctor\", \"Abogada\", \"Profesor\", \"Ingeniero\",\n",
    "                 \"Abogado\", \"Abogada\", \"Profesor\")\n",
    "pesos <- c(67, 89, 49, 56, 91, 89, 78, 50)\n",
    "alturas <- c(1.56, 1.82, 1.58, 1.63, 2.01, 1.69, 1.59, 1.45 )\n",
    "ingresos <- c(\"22M\", \"29M\", \"52M\", \"25M\", \"31M\", \"82M\", \"76M\", \"19M\")\n",
    "sexos <- c(\"M\", \"V\", \"NB\", \"V\", \"V\", \"V\", \"M\", \"NB\")\n",
    "\n",
    "socios <- data.frame(Nombre = nombres, Edad = edades, Ocupacion = ocupaciones,\n",
    "                     Peso = pesos, Altura = alturas, Ingresos = ingresos,\n",
    "                     Sexo = sexos )\n",
    "print(socios)"
   ]
  },
  {
   "cell_type": "markdown",
   "metadata": {},
   "source": [
    "## 1. Diseña una función que filtre los socios que tengan una determinada profesión"
   ]
  },
  {
   "cell_type": "code",
   "execution_count": null,
   "metadata": {},
   "outputs": [],
   "source": [
    "sociosXprofesion <- function (socios,profesiones) {\n",
    "  \n",
    "  return (socios[socios$Ocupacion %in% profesiones,])\n",
    "  \n",
    "}\n",
    "\n",
    "sociosXprofesion2 <- function (socios,profesiones) {\n",
    "  \n",
    "  return (subset(socios,Ocupacion == profesiones))\n",
    "  \n",
    "}\n",
    "\n",
    "print(sociosXprofesion2(socios,c(\"Ingeniera\",\"Profesor\")))"
   ]
  },
  {
   "cell_type": "markdown",
   "metadata": {},
   "source": [
    "## 2. Diseña una función que sustituya las columnas de peso y altura con el IMC"
   ]
  },
  {
   "cell_type": "code",
   "execution_count": null,
   "metadata": {},
   "outputs": [],
   "source": [
    "calculaIMC <- function(socios) {\n",
    "  \n",
    "  return(resultado)\n",
    "}"
   ]
  },
  {
   "cell_type": "markdown",
   "metadata": {},
   "source": [
    "## 3. Diseña una función para \n",
    "\n",
    "- Diseña una función para asignar nombres neutros a las columnas de un Dataframe\n",
    "- Se le pasará como entrada el dataframe y generará como salida un dataframe cuyas columnas tendrán como nombres: \"C1\", \"C2\", \"C3\", etc."
   ]
  },
  {
   "cell_type": "code",
   "execution_count": null,
   "metadata": {},
   "outputs": [],
   "source": [
    "ncol <- 3\n",
    "\n",
    "paste(\"c\",1:ncol,sep=\"\")\n",
    "\n",
    "paste0(\"c\",1:ncol)\n",
    "\n",
    "c(\"c1\",\"c2\",\"c3\")"
   ]
  },
  {
   "cell_type": "markdown",
   "metadata": {},
   "source": [
    "## 5. Diseña una función que elimine los registros donde alguno de sus atributos sea N/A"
   ]
  },
  {
   "cell_type": "code",
   "execution_count": null,
   "metadata": {},
   "outputs": [],
   "source": [
    "remove_na_register <- function(df) {\n",
    "    df <- df[complete.cases(df)]\n",
    "    return(df)\n",
    "}\n",
    "\n",
    "socios_without_na = remove_na_register(socios)"
   ]
  },
  {
   "cell_type": "markdown",
   "metadata": {},
   "source": [
    "## 6. Diseña una funcion que calcule los valores perdidos de los ingresos, calculando la media de la profesion"
   ]
  },
  {
   "cell_type": "code",
   "execution_count": null,
   "metadata": {},
   "outputs": [],
   "source": []
  },
  {
   "cell_type": "markdown",
   "metadata": {},
   "source": [
    "## 7. Diseña una funcion que sustituya en la columna Edad los siguientes valores:\n",
    "- Menor [0,18]\n",
    "- Joven [18,31]\n",
    "- Adulto [31,65]\n",
    "- Anciano [65,]"
   ]
  },
  {
   "cell_type": "code",
   "execution_count": null,
   "metadata": {},
   "outputs": [],
   "source": [
    "age_clasify <- function(df) {\n",
    "    df$Edad <- cut(df$Edad,\n",
    "                 breaks = c(-Inf, 18, 31, 65, Inf),\n",
    "                 labels = c(\"Menor\", \"Joven\", \"Adulto\", \"Anciano\"),\n",
    "                 right = FALSE)\n",
    "  return(df)\n",
    "}\n",
    "\n",
    "socios_clasified <- age_clasify(socios)"
   ]
  }
 ],
 "metadata": {
  "kernelspec": {
   "display_name": "Python 3",
   "language": "python",
   "name": "python3"
  },
  "language_info": {
   "codemirror_mode": {
    "name": "ipython",
    "version": 3
   },
   "file_extension": ".py",
   "mimetype": "text/x-python",
   "name": "python",
   "nbconvert_exporter": "python",
   "pygments_lexer": "ipython3",
   "version": "3.11.2"
  }
 },
 "nbformat": 4,
 "nbformat_minor": 2
}
