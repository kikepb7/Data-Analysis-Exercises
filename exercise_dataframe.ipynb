{
 "cells": [
  {
   "cell_type": "markdown",
   "metadata": {},
   "source": [
    "\n",
    "# Ejercicio de desarrollo. Dataframes y proceso"
   ]
  },
  {
   "cell_type": "markdown",
   "metadata": {},
   "source": [
    "### 1. Crea un dataframe con 1000 registros para tres datos con valores aleatorios generados"
   ]
  },
  {
   "cell_type": "code",
   "execution_count": null,
   "metadata": {},
   "outputs": [],
   "source": [
    "import pandas as pd\n",
    "import numpy as np\n",
    "import scipy.stats as st\n",
    "from sklearn.preprocessing import MinMaxScaler"
   ]
  },
  {
   "cell_type": "code",
   "execution_count": 10,
   "metadata": {},
   "outputs": [
    {
     "data": {
      "text/html": [
       "<div>\n",
       "<style scoped>\n",
       "    .dataframe tbody tr th:only-of-type {\n",
       "        vertical-align: middle;\n",
       "    }\n",
       "\n",
       "    .dataframe tbody tr th {\n",
       "        vertical-align: top;\n",
       "    }\n",
       "\n",
       "    .dataframe thead th {\n",
       "        text-align: right;\n",
       "    }\n",
       "</style>\n",
       "<table border=\"1\" class=\"dataframe\">\n",
       "  <thead>\n",
       "    <tr style=\"text-align: right;\">\n",
       "      <th></th>\n",
       "      <th>x</th>\n",
       "      <th>y</th>\n",
       "      <th>z</th>\n",
       "    </tr>\n",
       "  </thead>\n",
       "  <tbody>\n",
       "    <tr>\n",
       "      <th>0</th>\n",
       "      <td>38.470664</td>\n",
       "      <td>102.672033</td>\n",
       "      <td>21454.581548</td>\n",
       "    </tr>\n",
       "    <tr>\n",
       "      <th>1</th>\n",
       "      <td>32.020699</td>\n",
       "      <td>183.693763</td>\n",
       "      <td>18935.385720</td>\n",
       "    </tr>\n",
       "    <tr>\n",
       "      <th>2</th>\n",
       "      <td>25.676628</td>\n",
       "      <td>80.269380</td>\n",
       "      <td>17846.267652</td>\n",
       "    </tr>\n",
       "    <tr>\n",
       "      <th>3</th>\n",
       "      <td>44.658706</td>\n",
       "      <td>100.158103</td>\n",
       "      <td>33604.239361</td>\n",
       "    </tr>\n",
       "    <tr>\n",
       "      <th>4</th>\n",
       "      <td>42.092708</td>\n",
       "      <td>54.606477</td>\n",
       "      <td>29370.997636</td>\n",
       "    </tr>\n",
       "    <tr>\n",
       "      <th>...</th>\n",
       "      <td>...</td>\n",
       "      <td>...</td>\n",
       "      <td>...</td>\n",
       "    </tr>\n",
       "    <tr>\n",
       "      <th>995</th>\n",
       "      <td>18.119729</td>\n",
       "      <td>188.314912</td>\n",
       "      <td>24540.488047</td>\n",
       "    </tr>\n",
       "    <tr>\n",
       "      <th>996</th>\n",
       "      <td>36.119508</td>\n",
       "      <td>16.210635</td>\n",
       "      <td>29501.912866</td>\n",
       "    </tr>\n",
       "    <tr>\n",
       "      <th>997</th>\n",
       "      <td>17.993883</td>\n",
       "      <td>121.948806</td>\n",
       "      <td>22949.451243</td>\n",
       "    </tr>\n",
       "    <tr>\n",
       "      <th>998</th>\n",
       "      <td>22.083382</td>\n",
       "      <td>127.050654</td>\n",
       "      <td>22017.501525</td>\n",
       "    </tr>\n",
       "    <tr>\n",
       "      <th>999</th>\n",
       "      <td>22.696782</td>\n",
       "      <td>126.669105</td>\n",
       "      <td>18799.400740</td>\n",
       "    </tr>\n",
       "  </tbody>\n",
       "</table>\n",
       "<p>1000 rows × 3 columns</p>\n",
       "</div>"
      ],
      "text/plain": [
       "             x           y             z\n",
       "0    38.470664  102.672033  21454.581548\n",
       "1    32.020699  183.693763  18935.385720\n",
       "2    25.676628   80.269380  17846.267652\n",
       "3    44.658706  100.158103  33604.239361\n",
       "4    42.092708   54.606477  29370.997636\n",
       "..         ...         ...           ...\n",
       "995  18.119729  188.314912  24540.488047\n",
       "996  36.119508   16.210635  29501.912866\n",
       "997  17.993883  121.948806  22949.451243\n",
       "998  22.083382  127.050654  22017.501525\n",
       "999  22.696782  126.669105  18799.400740\n",
       "\n",
       "[1000 rows x 3 columns]"
      ]
     },
     "execution_count": 10,
     "metadata": {},
     "output_type": "execute_result"
    }
   ],
   "source": [
    "# Creamos un dataframe\n",
    "# x --> entre 20 y 50\n",
    "# y --> entre 50 y 150\n",
    "# z --> entre 10000 y 40000\n",
    "\n",
    "data = {'x': np.random.normal(30, 10, size = 1000),\n",
    "        'y': np.random.normal(100, 40, size = 1000),\n",
    "        'z': np.random.normal(25000, 5000, size = 1000)\n",
    "        }\n",
    "\n",
    "df = pd.DataFrame(data)\n",
    "\n",
    "df\n"
   ]
  },
  {
   "cell_type": "markdown",
   "metadata": {},
   "source": [
    "## 2. Muestra los datos estadísticos de cada variable (media, desviación típica, máx, mín, etc)"
   ]
  },
  {
   "cell_type": "code",
   "execution_count": 11,
   "metadata": {},
   "outputs": [
    {
     "data": {
      "text/html": [
       "<div>\n",
       "<style scoped>\n",
       "    .dataframe tbody tr th:only-of-type {\n",
       "        vertical-align: middle;\n",
       "    }\n",
       "\n",
       "    .dataframe tbody tr th {\n",
       "        vertical-align: top;\n",
       "    }\n",
       "\n",
       "    .dataframe thead th {\n",
       "        text-align: right;\n",
       "    }\n",
       "</style>\n",
       "<table border=\"1\" class=\"dataframe\">\n",
       "  <thead>\n",
       "    <tr style=\"text-align: right;\">\n",
       "      <th></th>\n",
       "      <th>x</th>\n",
       "      <th>y</th>\n",
       "      <th>z</th>\n",
       "    </tr>\n",
       "  </thead>\n",
       "  <tbody>\n",
       "    <tr>\n",
       "      <th>count</th>\n",
       "      <td>1000.000000</td>\n",
       "      <td>1000.000000</td>\n",
       "      <td>1000.000000</td>\n",
       "    </tr>\n",
       "    <tr>\n",
       "      <th>mean</th>\n",
       "      <td>29.851134</td>\n",
       "      <td>98.795261</td>\n",
       "      <td>25083.437511</td>\n",
       "    </tr>\n",
       "    <tr>\n",
       "      <th>std</th>\n",
       "      <td>9.881241</td>\n",
       "      <td>38.092465</td>\n",
       "      <td>4929.964494</td>\n",
       "    </tr>\n",
       "    <tr>\n",
       "      <th>min</th>\n",
       "      <td>-1.084305</td>\n",
       "      <td>-16.845053</td>\n",
       "      <td>10115.775610</td>\n",
       "    </tr>\n",
       "    <tr>\n",
       "      <th>25%</th>\n",
       "      <td>23.468496</td>\n",
       "      <td>73.100147</td>\n",
       "      <td>21504.679932</td>\n",
       "    </tr>\n",
       "    <tr>\n",
       "      <th>50%</th>\n",
       "      <td>29.957772</td>\n",
       "      <td>100.914318</td>\n",
       "      <td>25172.781833</td>\n",
       "    </tr>\n",
       "    <tr>\n",
       "      <th>75%</th>\n",
       "      <td>36.415151</td>\n",
       "      <td>124.835894</td>\n",
       "      <td>28702.094616</td>\n",
       "    </tr>\n",
       "    <tr>\n",
       "      <th>max</th>\n",
       "      <td>60.243775</td>\n",
       "      <td>217.120627</td>\n",
       "      <td>39400.510280</td>\n",
       "    </tr>\n",
       "  </tbody>\n",
       "</table>\n",
       "</div>"
      ],
      "text/plain": [
       "                 x            y             z\n",
       "count  1000.000000  1000.000000   1000.000000\n",
       "mean     29.851134    98.795261  25083.437511\n",
       "std       9.881241    38.092465   4929.964494\n",
       "min      -1.084305   -16.845053  10115.775610\n",
       "25%      23.468496    73.100147  21504.679932\n",
       "50%      29.957772   100.914318  25172.781833\n",
       "75%      36.415151   124.835894  28702.094616\n",
       "max      60.243775   217.120627  39400.510280"
      ]
     },
     "execution_count": 11,
     "metadata": {},
     "output_type": "execute_result"
    }
   ],
   "source": [
    "statistical_data = df.describe()\n",
    "\n",
    "statistical_data"
   ]
  },
  {
   "cell_type": "markdown",
   "metadata": {},
   "source": [
    "## 3. Usando la distribución normal calcula las siguientes probabilidades:\n",
    "\n",
    "\n",
    "\n",
    "*   Calcula (usando la distribución normal) la probabilidad que el valor y esté entre 55 y 70\n",
    "*   Calcula (usando la distribución normal) la probabilidad que el valor z esté entre 20000 y 30000\n",
    "\n"
   ]
  },
  {
   "cell_type": "code",
   "execution_count": 12,
   "metadata": {},
   "outputs": [
    {
     "name": "stdout",
     "output_type": "stream",
     "text": [
      "La probabilidad entre 55 y 70 es 0.09633283524005942\n",
      "La probabilidad entre 55 y 70 es 0.6826894921370859\n"
     ]
    }
   ],
   "source": [
    "py1 = (55 - 100) / 40\n",
    "py2 = (70 - 100) / 40\n",
    "pz1 = (20000 - 25000) / 5000\n",
    "pz2 = (30000 - 25000) / 5000\n",
    "\n",
    "py = st.norm.cdf(py2) - st.norm.cdf(py1)\n",
    "pz = st.norm.cdf(pz2) - st.norm.cdf(pz1)\n",
    "\n",
    "print(f\"La probabilidad entre 55 y 70 es {py}\")\n",
    "print(f\"La probabilidad entre 55 y 70 es {pz}\")"
   ]
  },
  {
   "cell_type": "markdown",
   "metadata": {},
   "source": [
    "## 4. Realiza una función que reciba un dataframe y un nombre de columna y devuelva una tupla con los valores (XL, XN) corresponde al intervalo al cual si no pertenece un valor puede ser considerado como outlier\n",
    "\n",
    "\n",
    "\n",
    "*   Realiza la función usando el método basado en cuantiles\n",
    "\n",
    "\n",
    "*   Esta función además deberá recibir otro parámetro (k) que indica si queremos detectar outliers débiles (k=1.5) o no (k=3)\n",
    "\n",
    "\n",
    "\n"
   ]
  },
  {
   "cell_type": "code",
   "execution_count": 13,
   "metadata": {},
   "outputs": [
    {
     "data": {
      "text/plain": [
       "(1.3389545105942346,\n",
       " -1.0843052063923935,\n",
       " 56.86408534180195,\n",
       " 58.18446438334222,\n",
       " 57.182467720758865,\n",
       " 60.24377543175529,\n",
       " 3.8288304269603266,\n",
       " 57.70699944179285,\n",
       " 3.2178829956182042)"
      ]
     },
     "execution_count": 13,
     "metadata": {},
     "output_type": "execute_result"
    }
   ],
   "source": [
    "def outlier_detection(df, column_name, k):\n",
    "\n",
    "  Q1 = df.quantile(0.25)\n",
    "  Q3 = df.quantile(0.75)\n",
    "  IQR = Q3 - Q1\n",
    "\n",
    "  xL = Q1 - k * IQR\n",
    "  xN = Q3 + k * IQR\n",
    "  tupla = ()\n",
    "\n",
    "  for i in range(len(df)):\n",
    "    if df[column_name][i] < xL[column_name] or df[column_name][i] > xN[column_name]:\n",
    "      tupla = tupla + (df[column_name][i],)\n",
    "\n",
    "  return tupla\n",
    "\n",
    "outlier_detection(df, 'x', 1.5)\n"
   ]
  },
  {
   "cell_type": "markdown",
   "metadata": {},
   "source": [
    "## 5. Introduce deliberadamente dos valores fuera de los rangos en alguno de los atributos (x,y,z) y, usando el método jackknife detecte las observaciones influyentes para la media. Haz lo mismo para la mediana. Comenta los resultados obtenidos"
   ]
  },
  {
   "cell_type": "code",
   "execution_count": null,
   "metadata": {},
   "outputs": [
    {
     "name": "stdout",
     "output_type": "stream",
     "text": [
      "Valores influyentes en la columna 'x':\n",
      "La media de la coordenada 'x' [0] = 29.8425 es influyente\n",
      "La media de la coordenada 'x' [247] = 29.9413 es influyente\n",
      "La media de la coordenada 'x' [345] = 29.9437 es influyente\n",
      "La media de la coordenada 'x' [401] = 29.8857 es influyente\n",
      "La media de la coordenada 'x' [586] = 29.8844 es influyente\n",
      "La media de la coordenada 'x' [658] = 29.8854 es influyente\n",
      "La media de la coordenada 'x' [675] = 29.8823 es influyente\n",
      "La media de la coordenada 'x' [728] = 29.9388 es influyente\n",
      "La media de la coordenada 'x' [742] = 29.8848 es influyente\n",
      "La media de la coordenada 'x' [873] = 29.9394 es influyente\n",
      "\n",
      "Valores influyentes en la columna 'y':\n",
      "La media de la coordenada 'y' [1] = 98.7103 es influyente\n",
      "La media de la coordenada 'y' [171] = 98.8019 es influyente\n",
      "La media de la coordenada 'y' [250] = 99.0171 es influyente\n",
      "La media de la coordenada 'y' [326] = 99.0164 es influyente\n",
      "La media de la coordenada 'y' [389] = 98.7932 es influyente\n",
      "La media de la coordenada 'y' [470] = 99.0163 es influyente\n",
      "La media de la coordenada 'y' [496] = 99.0220 es influyente\n",
      "La media de la coordenada 'y' [611] = 98.8033 es influyente\n",
      "La media de la coordenada 'y' [639] = 99.0191 es influyente\n",
      "La media de la coordenada 'y' [646] = 99.0193 es influyente\n",
      "La media de la coordenada 'y' [805] = 99.0274 es influyente\n"
     ]
    },
    {
     "data": {
      "text/plain": [
       "[1, 171, 250, 326, 389, 470, 496, 611, 639, 646, 805]"
      ]
     },
     "execution_count": 25,
     "metadata": {},
     "output_type": "execute_result"
    }
   ],
   "source": [
    "# Introducimos valores fuera de los rangos, por ejemplo:\n",
    "df.loc[0, 'x'] = 100\n",
    "df.loc[1, 'y'] = 300\n",
    "\n",
    "def is_any_influence_value(df, col, k=1.5):\n",
    "    n = len(df[col])\n",
    "    mean_jackknife = np.zeros(n)\n",
    "    \n",
    "    for i in range(n):\n",
    "        data_without_i = np.delete(df[col].values, i)\n",
    "        mean_jackknife[i] = np.mean(data_without_i)\n",
    "    \n",
    "    Q1 = np.quantile(mean_jackknife, 0.25)\n",
    "    Q3 = np.quantile(mean_jackknife, 0.75)\n",
    "    IQR = Q3 - Q1\n",
    "    xL = Q1 - k * IQR\n",
    "    xU = Q3 + k * IQR\n",
    "    \n",
    "    # Valores influyentes\n",
    "    influents = []\n",
    "    for i in range(n):\n",
    "        if mean_jackknife[i] < xL or mean_jackknife[i] > xU:\n",
    "            influents.append(i)\n",
    "            print(f\"La media de la coordenada '{col}' [{i}] = {mean_jackknife[i]:.4f} es influyente\")\n",
    "    return influents\n",
    "\n",
    "print(\"Valores influyentes en la columna 'x':\")\n",
    "is_any_influence_value(df, 'x', k=1.5)\n",
    "\n",
    "print(\"\\nValores influyentes en la columna 'y':\")\n",
    "is_any_influence_value(df, 'y', k=1.5)    "
   ]
  },
  {
   "cell_type": "markdown",
   "metadata": {},
   "source": [
    "## 6. Utiliza MinMaxScaler para realizar un escalado del dataframe creado en el ejercicio 1. Muestra los resultados y comenta que ha sucedido"
   ]
  },
  {
   "cell_type": "code",
   "execution_count": null,
   "metadata": {},
   "outputs": [
    {
     "name": "stdout",
     "output_type": "stream",
     "text": [
      "********\n",
      "ESCALADO\n",
      "********\n",
      "                  x            y            z\n",
      "count  1000.000000  1000.000000  1000.000000\n",
      "mean      0.306645     0.365341     0.511108\n",
      "std       0.100150     0.121596     0.168346\n",
      "min       0.000000     0.000000     0.000000\n",
      "25%       0.242894     0.283878     0.388902\n",
      "50%       0.307091     0.371662     0.514159\n",
      "75%       0.370972     0.447162     0.634676\n",
      "max       1.000000     1.000000     1.000000\n"
     ]
    }
   ],
   "source": [
    "# Instanciamos el scaler\n",
    "caler = MinMaxScaler()\n",
    "\n",
    "# Aplicamos el escalado a nuestro dataframe\n",
    "df_scaled = pd.DataFrame(scaler.fit_transform(df), columns=df.columns)\n",
    "\n",
    "print(\"********\\nESCALADO\\n********\\n\", df_scaled.describe())"
   ]
  },
  {
   "cell_type": "markdown",
   "metadata": {},
   "source": [
    "## 7. Bitcoin price dataframe\n",
    "\n",
    "\n",
    "\n",
    "*   Importa el dataset como un dataframe de pandas\n",
    "*   Selecciona los dos atributos numéricos\n",
    "*   Calcula la media y la varianza de esos dos datos numéricos\n",
    "*   Realiza un estudio para determinar si contiene outliers (en el caso que no encuentres outliers, introduce uno deliberadamente)\n",
    "*   Usa el método jackknife para detectar si hay observaciones influyentes para la media en alguno de los atributos\n",
    "*   Escala los atributos usando MinMaxScaler\n",
    "\n"
   ]
  },
  {
   "cell_type": "code",
   "execution_count": 85,
   "metadata": {},
   "outputs": [],
   "source": [
    "# Importar el dataset\n",
    "data = pd.read_csv('data/bitcoin.csv')"
   ]
  },
  {
   "cell_type": "code",
   "execution_count": 86,
   "metadata": {},
   "outputs": [
    {
     "name": "stdout",
     "output_type": "stream",
     "text": [
      "<class 'pandas.core.frame.DataFrame'>\n",
      "RangeIndex: 610782 entries, 0 to 610781\n",
      "Data columns (total 9 columns):\n",
      " #   Column      Non-Null Count   Dtype  \n",
      "---  ------      --------------   -----  \n",
      " 0   unix        610782 non-null  int64  \n",
      " 1   date        610782 non-null  object \n",
      " 2   symbol      610782 non-null  object \n",
      " 3   open        610782 non-null  float64\n",
      " 4   high        610782 non-null  float64\n",
      " 5   low         610782 non-null  float64\n",
      " 6   close       610782 non-null  float64\n",
      " 7   Volume BTC  610782 non-null  float64\n",
      " 8   Volume USD  610782 non-null  float64\n",
      "dtypes: float64(6), int64(1), object(2)\n",
      "memory usage: 41.9+ MB\n"
     ]
    },
    {
     "data": {
      "text/html": [
       "<div>\n",
       "<style scoped>\n",
       "    .dataframe tbody tr th:only-of-type {\n",
       "        vertical-align: middle;\n",
       "    }\n",
       "\n",
       "    .dataframe tbody tr th {\n",
       "        vertical-align: top;\n",
       "    }\n",
       "\n",
       "    .dataframe thead th {\n",
       "        text-align: right;\n",
       "    }\n",
       "</style>\n",
       "<table border=\"1\" class=\"dataframe\">\n",
       "  <thead>\n",
       "    <tr style=\"text-align: right;\">\n",
       "      <th></th>\n",
       "      <th>unix</th>\n",
       "      <th>date</th>\n",
       "      <th>symbol</th>\n",
       "      <th>open</th>\n",
       "      <th>high</th>\n",
       "      <th>low</th>\n",
       "      <th>close</th>\n",
       "      <th>Volume BTC</th>\n",
       "      <th>Volume USD</th>\n",
       "    </tr>\n",
       "  </thead>\n",
       "  <tbody>\n",
       "    <tr>\n",
       "      <th>0</th>\n",
       "      <td>1646106180</td>\n",
       "      <td>2022-03-01 03:43:00</td>\n",
       "      <td>BTC/USD</td>\n",
       "      <td>43046.58</td>\n",
       "      <td>43046.58</td>\n",
       "      <td>43046.58</td>\n",
       "      <td>43046.58</td>\n",
       "      <td>0.000000</td>\n",
       "      <td>0.000000</td>\n",
       "    </tr>\n",
       "    <tr>\n",
       "      <th>1</th>\n",
       "      <td>1646106060</td>\n",
       "      <td>2022-03-01 03:41:00</td>\n",
       "      <td>BTC/USD</td>\n",
       "      <td>43018.23</td>\n",
       "      <td>43046.59</td>\n",
       "      <td>43018.23</td>\n",
       "      <td>43046.58</td>\n",
       "      <td>0.142977</td>\n",
       "      <td>6154.673021</td>\n",
       "    </tr>\n",
       "    <tr>\n",
       "      <th>2</th>\n",
       "      <td>1646106000</td>\n",
       "      <td>2022-03-01 03:40:00</td>\n",
       "      <td>BTC/USD</td>\n",
       "      <td>43022.24</td>\n",
       "      <td>43022.24</td>\n",
       "      <td>43016.03</td>\n",
       "      <td>43016.03</td>\n",
       "      <td>0.009230</td>\n",
       "      <td>397.037957</td>\n",
       "    </tr>\n",
       "    <tr>\n",
       "      <th>3</th>\n",
       "      <td>1646105940</td>\n",
       "      <td>2022-03-01 03:39:00</td>\n",
       "      <td>BTC/USD</td>\n",
       "      <td>43035.16</td>\n",
       "      <td>43035.16</td>\n",
       "      <td>42999.44</td>\n",
       "      <td>42999.44</td>\n",
       "      <td>0.820950</td>\n",
       "      <td>35300.390268</td>\n",
       "    </tr>\n",
       "    <tr>\n",
       "      <th>4</th>\n",
       "      <td>1646105880</td>\n",
       "      <td>2022-03-01 03:38:00</td>\n",
       "      <td>BTC/USD</td>\n",
       "      <td>43077.82</td>\n",
       "      <td>43077.82</td>\n",
       "      <td>43049.46</td>\n",
       "      <td>43049.46</td>\n",
       "      <td>0.022210</td>\n",
       "      <td>956.143143</td>\n",
       "    </tr>\n",
       "  </tbody>\n",
       "</table>\n",
       "</div>"
      ],
      "text/plain": [
       "         unix                 date   symbol      open      high       low  \\\n",
       "0  1646106180  2022-03-01 03:43:00  BTC/USD  43046.58  43046.58  43046.58   \n",
       "1  1646106060  2022-03-01 03:41:00  BTC/USD  43018.23  43046.59  43018.23   \n",
       "2  1646106000  2022-03-01 03:40:00  BTC/USD  43022.24  43022.24  43016.03   \n",
       "3  1646105940  2022-03-01 03:39:00  BTC/USD  43035.16  43035.16  42999.44   \n",
       "4  1646105880  2022-03-01 03:38:00  BTC/USD  43077.82  43077.82  43049.46   \n",
       "\n",
       "      close  Volume BTC    Volume USD  \n",
       "0  43046.58    0.000000      0.000000  \n",
       "1  43046.58    0.142977   6154.673021  \n",
       "2  43016.03    0.009230    397.037957  \n",
       "3  42999.44    0.820950  35300.390268  \n",
       "4  43049.46    0.022210    956.143143  "
      ]
     },
     "execution_count": 86,
     "metadata": {},
     "output_type": "execute_result"
    }
   ],
   "source": [
    "# Mostramos los datos que contiene este dataset\n",
    "data.info()\n",
    "data.head()"
   ]
  },
  {
   "cell_type": "code",
   "execution_count": 87,
   "metadata": {},
   "outputs": [
    {
     "data": {
      "text/html": [
       "<div>\n",
       "<style scoped>\n",
       "    .dataframe tbody tr th:only-of-type {\n",
       "        vertical-align: middle;\n",
       "    }\n",
       "\n",
       "    .dataframe tbody tr th {\n",
       "        vertical-align: top;\n",
       "    }\n",
       "\n",
       "    .dataframe thead th {\n",
       "        text-align: right;\n",
       "    }\n",
       "</style>\n",
       "<table border=\"1\" class=\"dataframe\">\n",
       "  <thead>\n",
       "    <tr style=\"text-align: right;\">\n",
       "      <th></th>\n",
       "      <th>high</th>\n",
       "      <th>low</th>\n",
       "    </tr>\n",
       "  </thead>\n",
       "  <tbody>\n",
       "    <tr>\n",
       "      <th>0</th>\n",
       "      <td>43046.58</td>\n",
       "      <td>43046.58</td>\n",
       "    </tr>\n",
       "    <tr>\n",
       "      <th>1</th>\n",
       "      <td>43046.59</td>\n",
       "      <td>43018.23</td>\n",
       "    </tr>\n",
       "    <tr>\n",
       "      <th>2</th>\n",
       "      <td>43022.24</td>\n",
       "      <td>43016.03</td>\n",
       "    </tr>\n",
       "    <tr>\n",
       "      <th>3</th>\n",
       "      <td>43035.16</td>\n",
       "      <td>42999.44</td>\n",
       "    </tr>\n",
       "    <tr>\n",
       "      <th>4</th>\n",
       "      <td>43077.82</td>\n",
       "      <td>43049.46</td>\n",
       "    </tr>\n",
       "  </tbody>\n",
       "</table>\n",
       "</div>"
      ],
      "text/plain": [
       "       high       low\n",
       "0  43046.58  43046.58\n",
       "1  43046.59  43018.23\n",
       "2  43022.24  43016.03\n",
       "3  43035.16  42999.44\n",
       "4  43077.82  43049.46"
      ]
     },
     "execution_count": 87,
     "metadata": {},
     "output_type": "execute_result"
    }
   ],
   "source": [
    "# Elegimos en nuestro caso dos valores numéricos, que serán 24h High y 24h Low\n",
    "df = data[['high', 'low']]\n",
    "df.head()"
   ]
  },
  {
   "cell_type": "code",
   "execution_count": 88,
   "metadata": {},
   "outputs": [
    {
     "name": "stdout",
     "output_type": "stream",
     "text": [
      "\n",
      "Media y Varianza:\n",
      "Media de 'high': 46509.783597060814, Varianza de 'high': 89393206.87774411\n",
      "Media de 'low': 46454.08571211986, Varianza de 'low': 89361773.39350961\n"
     ]
    }
   ],
   "source": [
    "# Calculamos la media y la varianza de 24h High (USD) y 24h Low (USD)\n",
    "mean_high = df['high'].mean()\n",
    "mean_low = df['low'].mean()\n",
    "\n",
    "var_high = df['high'].var()\n",
    "var_low = df['low'].var()\n",
    "\n",
    "print(\"\\nMedia y Varianza:\")\n",
    "print(f\"Media de 'high': {mean_high}, Varianza de 'high': {var_high}\")\n",
    "print(f\"Media de 'low': {mean_low}, Varianza de 'low': {var_low}\")"
   ]
  },
  {
   "cell_type": "code",
   "execution_count": 89,
   "metadata": {},
   "outputs": [
    {
     "name": "stdout",
     "output_type": "stream",
     "text": [
      "Outliers en la columna 'high':  []\n",
      "Outliers en la columna 'low':  []\n",
      "Outlier en 'high' con valor 70000\n",
      "Outliers en 'high' tras introducir manualmente un outlier:  []\n"
     ]
    },
    {
     "name": "stderr",
     "output_type": "stream",
     "text": [
      "C:\\Users\\Usuario\\AppData\\Local\\Temp\\ipykernel_107956\\1310435266.py:26: SettingWithCopyWarning: \n",
      "A value is trying to be set on a copy of a slice from a DataFrame\n",
      "\n",
      "See the caveats in the documentation: https://pandas.pydata.org/pandas-docs/stable/user_guide/indexing.html#returning-a-view-versus-a-copy\n",
      "  df.loc[1, 'high'] = 70000\n",
      "C:\\Users\\Usuario\\AppData\\Local\\Temp\\ipykernel_107956\\1310435266.py:27: SettingWithCopyWarning: \n",
      "A value is trying to be set on a copy of a slice from a DataFrame\n",
      "\n",
      "See the caveats in the documentation: https://pandas.pydata.org/pandas-docs/stable/user_guide/indexing.html#returning-a-view-versus-a-copy\n",
      "  df.loc[1, 'low'] = 80000\n"
     ]
    }
   ],
   "source": [
    "# Realizar un estudio para determinar si contiene outliers\n",
    "# Usaremos el método basado en cuartiles\n",
    "\n",
    "def outliers(df, col, k=1.5):\n",
    "    Q1 = df[col].quantile(0.25)\n",
    "    Q3 = df[col].quantile(0.75)\n",
    "    IQR = Q3 - Q1\n",
    "\n",
    "    # Establecicendo un valor de k = 1.5 para outliers débiles\n",
    "    k = 1.5\n",
    "    xL = Q1 - k * IQR\n",
    "    xU = Q3 + k * IQR\n",
    "    outliers = df[(df[col] < xL) | (df[col] > xU)].index.tolist()\n",
    "    return outliers\n",
    "\n",
    "outliers_high = outliers(df, 'high', k=1.5)\n",
    "outliers_low =outliers(df, 'low', k=1.5)\n",
    "\n",
    "print(\"Outliers en la columna 'high': \", outliers_high)\n",
    "print(\"Outliers en la columna 'low': \", outliers_low)\n",
    "\n",
    "\n",
    "# Al no haber outliers, agregamos uno manualmente:\n",
    "\n",
    "if not outliers_high or outliers_low:\n",
    "    df.loc[1, 'high'] = 70000\n",
    "    df.loc[1, 'low'] = 80000\n",
    "    print(\"Outlier en 'high' con valor 70000\")\n",
    "\n",
    "outliers_high_new = outliers(df, 'high', k=1.5)\n",
    "print(\"Outliers en 'high' tras introducir manualmente un outlier: \", outliers_high_new)\n"
   ]
  },
  {
   "cell_type": "code",
   "execution_count": 92,
   "metadata": {},
   "outputs": [
    {
     "name": "stdout",
     "output_type": "stream",
     "text": [
      "\n",
      "Influencia Jackknife para 'high':\n"
     ]
    },
    {
     "ename": "KeyboardInterrupt",
     "evalue": "",
     "output_type": "error",
     "traceback": [
      "\u001b[1;31m---------------------------------------------------------------------------\u001b[0m",
      "\u001b[1;31mKeyboardInterrupt\u001b[0m                         Traceback (most recent call last)",
      "Cell \u001b[1;32mIn[92], line 30\u001b[0m\n\u001b[0;32m     27\u001b[0m df_copy\u001b[38;5;241m.\u001b[39mloc[\u001b[38;5;241m0\u001b[39m, \u001b[38;5;124m'\u001b[39m\u001b[38;5;124mlow\u001b[39m\u001b[38;5;124m'\u001b[39m] \u001b[38;5;241m=\u001b[39m \u001b[38;5;241m100000\u001b[39m\n\u001b[0;32m     29\u001b[0m \u001b[38;5;28mprint\u001b[39m(\u001b[38;5;124m\"\u001b[39m\u001b[38;5;130;01m\\n\u001b[39;00m\u001b[38;5;124mInfluencia Jackknife para \u001b[39m\u001b[38;5;124m'\u001b[39m\u001b[38;5;124mhigh\u001b[39m\u001b[38;5;124m'\u001b[39m\u001b[38;5;124m:\u001b[39m\u001b[38;5;124m\"\u001b[39m)\n\u001b[1;32m---> 30\u001b[0m \u001b[43mis_any_influence_value\u001b[49m\u001b[43m(\u001b[49m\u001b[43mdf_copy\u001b[49m\u001b[43m,\u001b[49m\u001b[43m \u001b[49m\u001b[38;5;124;43m'\u001b[39;49m\u001b[38;5;124;43mhigh\u001b[39;49m\u001b[38;5;124;43m'\u001b[39;49m\u001b[43m,\u001b[49m\u001b[43m \u001b[49m\u001b[43mk\u001b[49m\u001b[38;5;241;43m=\u001b[39;49m\u001b[38;5;241;43m1.5\u001b[39;49m\u001b[43m)\u001b[49m\n\u001b[0;32m     32\u001b[0m \u001b[38;5;28mprint\u001b[39m(\u001b[38;5;124m\"\u001b[39m\u001b[38;5;130;01m\\n\u001b[39;00m\u001b[38;5;124mInfluencia Jackknife para \u001b[39m\u001b[38;5;124m'\u001b[39m\u001b[38;5;124mlow\u001b[39m\u001b[38;5;124m'\u001b[39m\u001b[38;5;124m:\u001b[39m\u001b[38;5;124m\"\u001b[39m)\n\u001b[0;32m     33\u001b[0m is_any_influence_value(df_copy, \u001b[38;5;124m'\u001b[39m\u001b[38;5;124mlow\u001b[39m\u001b[38;5;124m'\u001b[39m, k\u001b[38;5;241m=\u001b[39m\u001b[38;5;241m1.5\u001b[39m)\n",
      "Cell \u001b[1;32mIn[92], line 8\u001b[0m, in \u001b[0;36mis_any_influence_value\u001b[1;34m(df, col, k)\u001b[0m\n\u001b[0;32m      6\u001b[0m \u001b[38;5;28;01mfor\u001b[39;00m i \u001b[38;5;129;01min\u001b[39;00m \u001b[38;5;28mrange\u001b[39m(n):\n\u001b[0;32m      7\u001b[0m     data_without_i \u001b[38;5;241m=\u001b[39m np\u001b[38;5;241m.\u001b[39mdelete(df[col]\u001b[38;5;241m.\u001b[39mvalues, i)\n\u001b[1;32m----> 8\u001b[0m     mean_jackknife[i] \u001b[38;5;241m=\u001b[39m \u001b[43mnp\u001b[49m\u001b[38;5;241;43m.\u001b[39;49m\u001b[43mmean\u001b[49m\u001b[43m(\u001b[49m\u001b[43mdata_without_i\u001b[49m\u001b[43m)\u001b[49m\n\u001b[0;32m     10\u001b[0m Q1 \u001b[38;5;241m=\u001b[39m np\u001b[38;5;241m.\u001b[39mquantile(mean_jackknife, \u001b[38;5;241m0.25\u001b[39m)\n\u001b[0;32m     11\u001b[0m Q3 \u001b[38;5;241m=\u001b[39m np\u001b[38;5;241m.\u001b[39mquantile(mean_jackknife, \u001b[38;5;241m0.75\u001b[39m)\n",
      "File \u001b[1;32mc:\\Users\\Usuario\\AppData\\Local\\Programs\\Python\\Python311\\Lib\\site-packages\\numpy\\core\\fromnumeric.py:3504\u001b[0m, in \u001b[0;36mmean\u001b[1;34m(a, axis, dtype, out, keepdims, where)\u001b[0m\n\u001b[0;32m   3501\u001b[0m     \u001b[38;5;28;01melse\u001b[39;00m:\n\u001b[0;32m   3502\u001b[0m         \u001b[38;5;28;01mreturn\u001b[39;00m mean(axis\u001b[38;5;241m=\u001b[39maxis, dtype\u001b[38;5;241m=\u001b[39mdtype, out\u001b[38;5;241m=\u001b[39mout, \u001b[38;5;241m*\u001b[39m\u001b[38;5;241m*\u001b[39mkwargs)\n\u001b[1;32m-> 3504\u001b[0m \u001b[38;5;28;01mreturn\u001b[39;00m \u001b[43m_methods\u001b[49m\u001b[38;5;241;43m.\u001b[39;49m\u001b[43m_mean\u001b[49m\u001b[43m(\u001b[49m\u001b[43ma\u001b[49m\u001b[43m,\u001b[49m\u001b[43m \u001b[49m\u001b[43maxis\u001b[49m\u001b[38;5;241;43m=\u001b[39;49m\u001b[43maxis\u001b[49m\u001b[43m,\u001b[49m\u001b[43m \u001b[49m\u001b[43mdtype\u001b[49m\u001b[38;5;241;43m=\u001b[39;49m\u001b[43mdtype\u001b[49m\u001b[43m,\u001b[49m\n\u001b[0;32m   3505\u001b[0m \u001b[43m                      \u001b[49m\u001b[43mout\u001b[49m\u001b[38;5;241;43m=\u001b[39;49m\u001b[43mout\u001b[49m\u001b[43m,\u001b[49m\u001b[43m \u001b[49m\u001b[38;5;241;43m*\u001b[39;49m\u001b[38;5;241;43m*\u001b[39;49m\u001b[43mkwargs\u001b[49m\u001b[43m)\u001b[49m\n",
      "File \u001b[1;32mc:\\Users\\Usuario\\AppData\\Local\\Programs\\Python\\Python311\\Lib\\site-packages\\numpy\\core\\_methods.py:118\u001b[0m, in \u001b[0;36m_mean\u001b[1;34m(a, axis, dtype, out, keepdims, where)\u001b[0m\n\u001b[0;32m    115\u001b[0m         dtype \u001b[38;5;241m=\u001b[39m mu\u001b[38;5;241m.\u001b[39mdtype(\u001b[38;5;124m'\u001b[39m\u001b[38;5;124mf4\u001b[39m\u001b[38;5;124m'\u001b[39m)\n\u001b[0;32m    116\u001b[0m         is_float16_result \u001b[38;5;241m=\u001b[39m \u001b[38;5;28;01mTrue\u001b[39;00m\n\u001b[1;32m--> 118\u001b[0m ret \u001b[38;5;241m=\u001b[39m umr_sum(arr, axis, dtype, out, keepdims, where\u001b[38;5;241m=\u001b[39mwhere)\n\u001b[0;32m    119\u001b[0m \u001b[38;5;28;01mif\u001b[39;00m \u001b[38;5;28misinstance\u001b[39m(ret, mu\u001b[38;5;241m.\u001b[39mndarray):\n\u001b[0;32m    120\u001b[0m     \u001b[38;5;28;01mwith\u001b[39;00m _no_nep50_warning():\n",
      "\u001b[1;31mKeyboardInterrupt\u001b[0m: "
     ]
    }
   ],
   "source": [
    "# Usamos el método de Jackknife para detectar observaciones influyentes:\n",
    "def is_any_influence_value(df, col, k=1.5):\n",
    "    n = len(df[col])\n",
    "    mean_jackknife = np.zeros(n)\n",
    "    \n",
    "    for i in range(n):\n",
    "        data_without_i = np.delete(df[col].values, i)\n",
    "        mean_jackknife[i] = np.mean(data_without_i)\n",
    "    \n",
    "    Q1 = np.quantile(mean_jackknife, 0.25)\n",
    "    Q3 = np.quantile(mean_jackknife, 0.75)\n",
    "    IQR = Q3 - Q1\n",
    "    xL = Q1 - k * IQR\n",
    "    xU = Q3 + k * IQR\n",
    "    \n",
    "    # Valores influyentes\n",
    "    influents = []\n",
    "    for i in range(n):\n",
    "        if mean_jackknife[i] < xL or mean_jackknife[i] > xU:\n",
    "            influents.append(i)\n",
    "            print(f\"La media de la coordenada '{col}' [{i}] = {mean_jackknife[i]:.4f} es influyente\")\n",
    "    return influents\n",
    "\n",
    "# Creamos una copia para introducir los valores manualmente:\n",
    "df_copy = df.copy()\n",
    "df_copy.loc[0, 'high'] = 150000\n",
    "df_copy.loc[0, 'low'] = 100000\n",
    "\n",
    "print(\"\\nInfluencia Jackknife para 'high':\")\n",
    "is_any_influence_value(df_copy, 'high', k=1.5)\n",
    "\n",
    "print(\"\\nInfluencia Jackknife para 'low':\")\n",
    "is_any_influence_value(df_copy, 'low', k=1.5)\n"
   ]
  },
  {
   "cell_type": "code",
   "execution_count": 93,
   "metadata": {},
   "outputs": [
    {
     "name": "stdout",
     "output_type": "stream",
     "text": [
      "\n",
      "********\n",
      "ESCALADO\n",
      "********\n",
      "                 high            low\n",
      "count  610782.000000  610782.000000\n",
      "mean        0.148948       0.259046\n",
      "std         0.077760       0.130815\n",
      "min         0.000000       0.000000\n",
      "25%         0.080265       0.143434\n",
      "50%         0.150492       0.261572\n",
      "75%         0.218263       0.375607\n",
      "max         1.000000       1.000000\n"
     ]
    }
   ],
   "source": [
    "# Instanciamos el scaler\n",
    "scaler = MinMaxScaler()\n",
    "\n",
    "# Aplicamos el escalado a nuestro dataframe\n",
    "df_scaled = pd.DataFrame(scaler.fit_transform(df), columns=df.columns)\n",
    "\n",
    "print(\"\\n********\\nESCALADO\\n********\\n\", df_scaled.describe())\n"
   ]
  }
 ],
 "metadata": {
  "kernelspec": {
   "display_name": "Python 3",
   "language": "python",
   "name": "python3"
  },
  "language_info": {
   "codemirror_mode": {
    "name": "ipython",
    "version": 3
   },
   "file_extension": ".py",
   "mimetype": "text/x-python",
   "name": "python",
   "nbconvert_exporter": "python",
   "pygments_lexer": "ipython3",
   "version": "3.11.2"
  }
 },
 "nbformat": 4,
 "nbformat_minor": 2
}
